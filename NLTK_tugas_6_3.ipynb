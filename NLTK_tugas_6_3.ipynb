{
  "cells": [
    {
      "cell_type": "markdown",
      "metadata": {
        "id": "view-in-github",
        "colab_type": "text"
      },
      "source": [
        "<a href=\"https://colab.research.google.com/github/sabrinavdr/First/blob/main/NLTK_tugas_6_3.ipynb\" target=\"_parent\"><img src=\"https://colab.research.google.com/assets/colab-badge.svg\" alt=\"Open In Colab\"/></a>"
      ]
    },
    {
      "cell_type": "code",
      "execution_count": null,
      "id": "009682ea",
      "metadata": {
        "id": "009682ea"
      },
      "outputs": [],
      "source": [
        "import nltk"
      ]
    },
    {
      "cell_type": "markdown",
      "id": "d5ea6bf2",
      "metadata": {
        "id": "d5ea6bf2"
      },
      "source": [
        "# it was the first time"
      ]
    },
    {
      "cell_type": "code",
      "execution_count": null,
      "id": "b7b48695",
      "metadata": {
        "id": "b7b48695"
      },
      "outputs": [],
      "source": [
        "grammar3 = nltk.CFG.fromstring(\"\"\"\n",
        "S -> NP VP\n",
        "NP -> PRP\n",
        "VP -> VBD NP\n",
        "NP -> DT JJ NN\n",
        "\n",
        "PRP -> \"it\"\n",
        "VBD -> \"was\"\n",
        "DT -> \"the\"\n",
        "JJ -> \"first\"\n",
        "NN -> \"time\"\n",
        "\"\"\")"
      ]
    },
    {
      "cell_type": "code",
      "execution_count": null,
      "id": "96f10327",
      "metadata": {
        "id": "96f10327",
        "outputId": "e408a51c-fd56-4058-d069-e4d2cdaf049e"
      },
      "outputs": [
        {
          "name": "stdout",
          "output_type": "stream",
          "text": [
            "(S (NP (PRP it)) (VP (VBD was) (NP (DT the) (JJ first) (NN time))))\n"
          ]
        }
      ],
      "source": [
        "sent = ['it','was','the','first','time']\n",
        "parser = nltk.ChartParser(grammar3)\n",
        "for tree in parser.parse(sent): print(tree)"
      ]
    },
    {
      "cell_type": "code",
      "execution_count": null,
      "id": "d5a2d888",
      "metadata": {
        "id": "d5a2d888",
        "outputId": "da8f3b2e-8844-467d-8fbc-ee5c0a757016"
      },
      "outputs": [
        {
          "name": "stdout",
          "output_type": "stream",
          "text": [
            "(S (NP (PRP it)) (VP (VBD was) (NP (DT the) (JJ first) (NN time))))\n"
          ]
        }
      ],
      "source": [
        "sent = ['it','was','the','first','time']\n",
        "parser = nltk.RecursiveDescentParser(grammar3)\n",
        "for tree in parser.parse(sent): print(tree)"
      ]
    },
    {
      "cell_type": "code",
      "execution_count": null,
      "id": "0306bea6",
      "metadata": {
        "id": "0306bea6"
      },
      "outputs": [],
      "source": [
        "grammar3 = nltk.PCFG.fromstring(\"\"\"\n",
        "S -> NP VP [1.0]\n",
        "NP -> PRP [0.5]\n",
        "VP -> VBD NP [1.0]\n",
        "NP -> DT JJ NN [0.5]\n",
        "\n",
        "PRP -> \"it\" [1.0]\n",
        "VBD -> \"was\" [1.0]\n",
        "DT -> \"the\" [1.0]\n",
        "JJ -> \"first\" [1.0]\n",
        "NN -> \"time\" [1.0]\n",
        "\"\"\")"
      ]
    },
    {
      "cell_type": "code",
      "execution_count": null,
      "id": "97901be2",
      "metadata": {
        "id": "97901be2",
        "outputId": "c0e1907e-9bbd-4055-aad7-8d0e2214a23d"
      },
      "outputs": [
        {
          "name": "stdout",
          "output_type": "stream",
          "text": [
            "Grammar with 9 productions (start state = S)\n",
            "    S -> NP VP [1.0]\n",
            "    NP -> PRP [0.5]\n",
            "    VP -> VBD NP [1.0]\n",
            "    NP -> DT JJ NN [0.5]\n",
            "    PRP -> 'it' [1.0]\n",
            "    VBD -> 'was' [1.0]\n",
            "    DT -> 'the' [1.0]\n",
            "    JJ -> 'first' [1.0]\n",
            "    NN -> 'time' [1.0]\n"
          ]
        }
      ],
      "source": [
        "print(grammar3)"
      ]
    },
    {
      "cell_type": "code",
      "execution_count": null,
      "id": "c7f92cc3",
      "metadata": {
        "id": "c7f92cc3",
        "outputId": "5d7aa2a6-af02-4664-c099-023da014fbac"
      },
      "outputs": [
        {
          "name": "stdout",
          "output_type": "stream",
          "text": [
            "(S\n",
            "  (NP (PRP it))\n",
            "  (VP (VBD was) (NP (DT the) (JJ first) (NN time)))) (p=0.25)\n"
          ]
        }
      ],
      "source": [
        "viterbi_parser = nltk.ViterbiParser(grammar3)\n",
        "for tree in viterbi_parser.parse(['it','was','the','first','time']):print(tree)"
      ]
    },
    {
      "cell_type": "code",
      "execution_count": null,
      "id": "de2412a2",
      "metadata": {
        "id": "de2412a2"
      },
      "outputs": [],
      "source": [
        "from nltk.draw.tree import draw_trees\n",
        "draw_trees(tree)"
      ]
    },
    {
      "cell_type": "code",
      "execution_count": null,
      "id": "34730f78",
      "metadata": {
        "id": "34730f78"
      },
      "outputs": [],
      "source": []
    }
  ],
  "metadata": {
    "kernelspec": {
      "display_name": "Python 3 (ipykernel)",
      "language": "python",
      "name": "python3"
    },
    "language_info": {
      "codemirror_mode": {
        "name": "ipython",
        "version": 3
      },
      "file_extension": ".py",
      "mimetype": "text/x-python",
      "name": "python",
      "nbconvert_exporter": "python",
      "pygments_lexer": "ipython3",
      "version": "3.9.13"
    },
    "colab": {
      "provenance": [],
      "include_colab_link": true
    }
  },
  "nbformat": 4,
  "nbformat_minor": 5
}