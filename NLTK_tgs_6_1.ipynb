{
  "cells": [
    {
      "cell_type": "markdown",
      "metadata": {
        "id": "view-in-github",
        "colab_type": "text"
      },
      "source": [
        "<a href=\"https://colab.research.google.com/github/sabrinavdr/First/blob/main/NLTK_tgs_6_1.ipynb\" target=\"_parent\"><img src=\"https://colab.research.google.com/assets/colab-badge.svg\" alt=\"Open In Colab\"/></a>"
      ]
    },
    {
      "cell_type": "code",
      "execution_count": null,
      "id": "fcf5f683",
      "metadata": {
        "id": "fcf5f683"
      },
      "outputs": [],
      "source": [
        "import nltk"
      ]
    },
    {
      "cell_type": "markdown",
      "id": "da9b40a1",
      "metadata": {
        "id": "da9b40a1"
      },
      "source": [
        "# I have enough advisors"
      ]
    },
    {
      "cell_type": "code",
      "execution_count": null,
      "id": "d249b355",
      "metadata": {
        "id": "d249b355"
      },
      "outputs": [],
      "source": [
        "grammar1 = nltk.CFG.fromstring(\"\"\"\n",
        "S -> NP VP\n",
        "NP -> PRP\n",
        "VP -> VBP NP\n",
        "NP -> JJ NNS\n",
        "\n",
        "PRP -> \"i\"\n",
        "VBP -> \"have\"\n",
        "JJ -> \"enough\"\n",
        "NNS -> \"advisors\"\n",
        "\"\"\")"
      ]
    },
    {
      "cell_type": "code",
      "execution_count": null,
      "id": "c820a9fc",
      "metadata": {
        "id": "c820a9fc",
        "outputId": "12f6bec5-a88c-4e96-ecce-a15af112bbae"
      },
      "outputs": [
        {
          "name": "stdout",
          "output_type": "stream",
          "text": [
            "(S (NP (PRP i)) (VP (VBP have) (NP (JJ enough) (NNS advisors))))\n"
          ]
        }
      ],
      "source": [
        "sent = ['i','have','enough','advisors']\n",
        "parser = nltk.ChartParser(grammar1)\n",
        "for tree in parser.parse(sent): print(tree)"
      ]
    },
    {
      "cell_type": "code",
      "execution_count": null,
      "id": "ce457341",
      "metadata": {
        "id": "ce457341",
        "outputId": "50cb43c8-58ee-45ca-ad38-ed9ba0c73db8"
      },
      "outputs": [
        {
          "name": "stdout",
          "output_type": "stream",
          "text": [
            "(S (NP (PRP i)) (VP (VBP have) (NP (JJ enough) (NNS advisors))))\n"
          ]
        }
      ],
      "source": [
        "sent = ['i','have','enough','advisors']\n",
        "parser = nltk.RecursiveDescentParser(grammar1)\n",
        "for tree in parser.parse(sent): print(tree)"
      ]
    },
    {
      "cell_type": "code",
      "execution_count": null,
      "id": "2093643c",
      "metadata": {
        "id": "2093643c"
      },
      "outputs": [],
      "source": [
        "grammar1 = nltk.PCFG.fromstring(\"\"\"\n",
        "S -> NP VP [1.0]\n",
        "NP -> PRP [0.5]\n",
        "VP -> VBP NP [1.0]\n",
        "NP -> JJ NNS [0.5]\n",
        "\n",
        "PRP -> \"i\" [1.0]\n",
        "VBP -> \"have\" [1.0]\n",
        "JJ -> \"enough\" [1.0]\n",
        "NNS -> \"advisors\" [1.0]\n",
        "\"\"\")"
      ]
    },
    {
      "cell_type": "code",
      "execution_count": null,
      "id": "dee35f3d",
      "metadata": {
        "id": "dee35f3d",
        "outputId": "ba9ca481-f26d-4588-efea-0be31a701123"
      },
      "outputs": [
        {
          "name": "stdout",
          "output_type": "stream",
          "text": [
            "Grammar with 8 productions (start state = S)\n",
            "    S -> NP VP [1.0]\n",
            "    NP -> PRP [0.5]\n",
            "    VP -> VBP NP [1.0]\n",
            "    NP -> JJ NNS [0.5]\n",
            "    PRP -> 'i' [1.0]\n",
            "    VBP -> 'have' [1.0]\n",
            "    JJ -> 'enough' [1.0]\n",
            "    NNS -> 'advisors' [1.0]\n"
          ]
        }
      ],
      "source": [
        "print(grammar1)"
      ]
    },
    {
      "cell_type": "code",
      "execution_count": null,
      "id": "e736087d",
      "metadata": {
        "id": "e736087d",
        "outputId": "14bf63dc-3fd5-49fd-acf2-08fd96ec7a05"
      },
      "outputs": [
        {
          "name": "stdout",
          "output_type": "stream",
          "text": [
            "(S\n",
            "  (NP (PRP i))\n",
            "  (VP (VBP have) (NP (JJ enough) (NNS advisors)))) (p=0.25)\n"
          ]
        }
      ],
      "source": [
        "viterbi_parser = nltk.ViterbiParser(grammar1)\n",
        "for tree in viterbi_parser.parse(['i','have','enough','advisors']):print(tree)"
      ]
    },
    {
      "cell_type": "code",
      "execution_count": null,
      "id": "dc7d41de",
      "metadata": {
        "id": "dc7d41de"
      },
      "outputs": [],
      "source": [
        "from nltk.draw.tree import draw_trees\n",
        "draw_trees(tree)"
      ]
    },
    {
      "cell_type": "markdown",
      "id": "136269ee",
      "metadata": {
        "id": "136269ee"
      },
      "source": [
        "# he had spoken at the table"
      ]
    },
    {
      "cell_type": "code",
      "execution_count": null,
      "id": "3a6311d9",
      "metadata": {
        "id": "3a6311d9"
      },
      "outputs": [],
      "source": [
        "grammar2 = nltk.CFG.fromstring(\"\"\"\n",
        "S -> NP VP\n",
        "NP -> PRP\n",
        "VP -> VBD VP\n",
        "VP -> VBN PP\n",
        "PP -> IN NP\n",
        "NP -> DT NN\n",
        "\n",
        "PRP -> \"he\"\n",
        "VBD -> \"had\"\n",
        "VBN -> \"spoken\"\n",
        "IN -> \"at\"\n",
        "DT -> \"the\"\n",
        "NN -> \"table\"\n",
        "\"\"\")"
      ]
    },
    {
      "cell_type": "code",
      "execution_count": null,
      "id": "fa8b160b",
      "metadata": {
        "id": "fa8b160b"
      },
      "outputs": [],
      "source": [
        "sent = ['he','had','spoken','at','the','table']\n",
        "parser = nltk.ChartParser(grammar2)\n",
        "for tree in parser.parse(sent): print(tree)"
      ]
    },
    {
      "cell_type": "code",
      "execution_count": null,
      "id": "758a038c",
      "metadata": {
        "id": "758a038c"
      },
      "outputs": [],
      "source": [
        "sent = ['he','had','spoken','at','the','table']\n",
        "parser = nltk.RecursiveDescentParser(grammar2)\n",
        "for tree in parser.parse(sent): print(tree)"
      ]
    },
    {
      "cell_type": "code",
      "execution_count": null,
      "id": "718db20b",
      "metadata": {
        "id": "718db20b"
      },
      "outputs": [],
      "source": [
        "grammar2 = nltk.PCFG.fromstring(\"\"\"\n",
        "S -> NP VP [1.0]\n",
        "NP -> PRP [0.5]\n",
        "VP -> VBD VP [0.8]\n",
        "VP -> VBN PP [0.2]\n",
        "PP -> IN NP [1.0]\n",
        "NP -> DT NN [0.5]\n",
        "\n",
        "PRP -> \"he\" [1.0]\n",
        "VBD -> \"had\" [1.0]\n",
        "VBN -> \"spoken\" [1.0]\n",
        "IN -> \"at\" [1.0]\n",
        "DT -> \"the\" [1.0]\n",
        "NN -> \"table\" [1.0]\n",
        "\"\"\")"
      ]
    },
    {
      "cell_type": "code",
      "execution_count": null,
      "id": "71fe9e67",
      "metadata": {
        "id": "71fe9e67"
      },
      "outputs": [],
      "source": [
        "print(grammar2)"
      ]
    },
    {
      "cell_type": "code",
      "execution_count": null,
      "id": "7edf3df8",
      "metadata": {
        "id": "7edf3df8"
      },
      "outputs": [],
      "source": [
        "viterbi_parser = nltk.ViterbiParser(grammar2)\n",
        "for tree in viterbi_parser.parse(['he','had','spoken','at','the','table']):print(tree)"
      ]
    },
    {
      "cell_type": "code",
      "execution_count": null,
      "id": "9186aff8",
      "metadata": {
        "id": "9186aff8"
      },
      "outputs": [],
      "source": [
        "from nltk.draw.tree import draw_trees\n",
        "draw_trees(tree)"
      ]
    },
    {
      "cell_type": "markdown",
      "id": "8cfcb8aa",
      "metadata": {
        "id": "8cfcb8aa"
      },
      "source": [
        "# it was the first time"
      ]
    },
    {
      "cell_type": "code",
      "execution_count": null,
      "id": "b81b20ab",
      "metadata": {
        "id": "b81b20ab"
      },
      "outputs": [],
      "source": [
        "grammar3 = nltk.CFG.fromstring(\"\"\"\n",
        "S -> NP VP\n",
        "NP -> PRP\n",
        "VP -> VBD NP\n",
        "NP -> DT JJ NN\n",
        "\n",
        "PRP -> \"it\"P\n",
        "VBD -> \"was\"\n",
        "DT -> \"the\"\n",
        "JJ -> \"first\"\n",
        "NN -> \"time\"\n",
        "\"\"\")"
      ]
    },
    {
      "cell_type": "code",
      "execution_count": null,
      "id": "6239cd22",
      "metadata": {
        "id": "6239cd22"
      },
      "outputs": [],
      "source": [
        "sent = ['it','was','the','first','time']\n",
        "parser = nltk.ChartParser(grammar3)\n",
        "for tree in parser.parse(sent): print(tree)"
      ]
    },
    {
      "cell_type": "code",
      "execution_count": null,
      "id": "4b3fcbc6",
      "metadata": {
        "id": "4b3fcbc6"
      },
      "outputs": [],
      "source": [
        "sent = ['it','was','the','first','time']\n",
        "parser = nltk.RecursiveDescentParser(grammar3)\n",
        "for tree in parser.parse(sent): print(tree)"
      ]
    },
    {
      "cell_type": "code",
      "execution_count": null,
      "id": "98bd47db",
      "metadata": {
        "id": "98bd47db"
      },
      "outputs": [],
      "source": [
        "grammar3 = nltk.PCFG.fromstring(\"\"\"\n",
        "S -> NP VP [1.0]\n",
        "NP -> PRP [0.5]\n",
        "VP -> VBD NP [1.0]\n",
        "NP -> DT JJ NN [0.5]\n",
        "\n",
        "PRP -> \"it\" [1.0]\n",
        "VBD -> \"was\" [1.0]\n",
        "DT -> \"the\" [1.0]\n",
        "JJ -> \"first\" [1.0]\n",
        "NN -> \"time\" [1.0]\n",
        "\"\"\")"
      ]
    },
    {
      "cell_type": "code",
      "execution_count": null,
      "id": "48f620f8",
      "metadata": {
        "id": "48f620f8"
      },
      "outputs": [],
      "source": [
        "print(grammar3)"
      ]
    },
    {
      "cell_type": "code",
      "execution_count": null,
      "id": "2de5caa0",
      "metadata": {
        "id": "2de5caa0"
      },
      "outputs": [],
      "source": [
        "viterbi_parser = nltk.ViterbiParser(grammar3)\n",
        "for tree in viterbi_parser.parse(['it','was','the','first','time']):print(tree)"
      ]
    },
    {
      "cell_type": "code",
      "execution_count": null,
      "id": "6ccf0741",
      "metadata": {
        "id": "6ccf0741"
      },
      "outputs": [],
      "source": [
        "from nltk.draw.tree import draw_trees\n",
        "draw_trees(tree)"
      ]
    },
    {
      "cell_type": "code",
      "execution_count": null,
      "id": "cd24a109",
      "metadata": {
        "id": "cd24a109"
      },
      "outputs": [],
      "source": []
    }
  ],
  "metadata": {
    "kernelspec": {
      "display_name": "Python 3 (ipykernel)",
      "language": "python",
      "name": "python3"
    },
    "language_info": {
      "codemirror_mode": {
        "name": "ipython",
        "version": 3
      },
      "file_extension": ".py",
      "mimetype": "text/x-python",
      "name": "python",
      "nbconvert_exporter": "python",
      "pygments_lexer": "ipython3",
      "version": "3.9.13"
    },
    "colab": {
      "provenance": [],
      "include_colab_link": true
    }
  },
  "nbformat": 4,
  "nbformat_minor": 5
}