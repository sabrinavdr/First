{
  "nbformat": 4,
  "nbformat_minor": 0,
  "metadata": {
    "colab": {
      "provenance": [],
      "collapsed_sections": [],
      "include_colab_link": true
    },
    "kernelspec": {
      "name": "python3",
      "display_name": "Python 3"
    },
    "language_info": {
      "name": "python"
    },
    "accelerator": "GPU",
    "gpuClass": "standard"
  },
  "cells": [
    {
      "cell_type": "markdown",
      "metadata": {
        "id": "view-in-github",
        "colab_type": "text"
      },
      "source": [
        "<a href=\"https://colab.research.google.com/github/sabrinavdr/First/blob/main/TSP_ACO.ipynb\" target=\"_parent\"><img src=\"https://colab.research.google.com/assets/colab-badge.svg\" alt=\"Open In Colab\"/></a>"
      ]
    },
    {
      "cell_type": "code",
      "execution_count": null,
      "metadata": {
        "id": "byLHy9fikLty"
      },
      "outputs": [],
      "source": [
        "import numpy as np\n",
        "from numpy import inf\n",
        "\n",
        "#given values for the problems\n",
        "\n",
        "d = np.array([[0,18,12,10,7]\n",
        "              ,[18,0,2,4,13]\n",
        "              ,[12,2,0,10,2]\n",
        "              ,[10,4,10,0,15]\n",
        "              ,[7,13,2,15,0]])\n",
        "\n",
        "\n",
        "iteration = 2\n",
        "n_ants = 5\n",
        "n_citys = 5"
      ]
    },
    {
      "cell_type": "code",
      "source": [
        "# intialization part\n",
        "\n",
        "m = n_ants\n",
        "n = n_citys\n",
        "e = .1         #evaporation rate\n",
        "alpha = .1     #pheromone factor\n",
        "beta = 2       #visibility factor"
      ],
      "metadata": {
        "id": "nFMVac4TGyZ0"
      },
      "execution_count": null,
      "outputs": []
    },
    {
      "cell_type": "code",
      "source": [
        "#calculating the visibility of the next city visibility(i,j)=1/d(i,j)\n",
        "\n",
        "visibility = 1/d\n",
        "visibility[visibility == inf ] = 0"
      ],
      "metadata": {
        "colab": {
          "base_uri": "https://localhost:8080/"
        },
        "id": "e03dUxDpG0uA",
        "outputId": "f2f0ad76-5a75-4fc9-ed55-5eeea49f56e8"
      },
      "execution_count": null,
      "outputs": [
        {
          "output_type": "stream",
          "name": "stderr",
          "text": [
            "/usr/local/lib/python3.7/dist-packages/ipykernel_launcher.py:3: RuntimeWarning: divide by zero encountered in true_divide\n",
            "  This is separate from the ipykernel package so we can avoid doing imports until\n"
          ]
        }
      ]
    },
    {
      "cell_type": "code",
      "source": [
        "#intializing pheromne present at the paths to the cities\n",
        "\n",
        "pheromne = .1*np.ones((m,n))\n",
        "\n",
        "#intializing the rute of the ants with size rute(n_ants,n_citys+1) \n",
        "\n",
        "rute = np.ones((m,n+1))"
      ],
      "metadata": {
        "id": "2Z6xMa4cG5OP"
      },
      "execution_count": null,
      "outputs": []
    },
    {
      "cell_type": "code",
      "source": [
        "# Pheromone Awal\n",
        "print(pheromne)"
      ],
      "metadata": {
        "colab": {
          "base_uri": "https://localhost:8080/"
        },
        "id": "I73gCzoWEvzm",
        "outputId": "ce56759e-91e5-4e8b-a29d-3d46127c0e28"
      },
      "execution_count": null,
      "outputs": [
        {
          "output_type": "stream",
          "name": "stdout",
          "text": [
            "[[0.1 0.1 0.1 0.1 0.1]\n",
            " [0.1 0.1 0.1 0.1 0.1]\n",
            " [0.1 0.1 0.1 0.1 0.1]\n",
            " [0.1 0.1 0.1 0.1 0.1]\n",
            " [0.1 0.1 0.1 0.1 0.1]]\n"
          ]
        }
      ]
    },
    {
      "cell_type": "code",
      "source": [
        "for ite in range(iteration):\n",
        "    \n",
        "    rute[:,0] = 1          #initial starting and ending positon of every ants '1' i.e city '1'\n",
        "    \n",
        "    for i in range(m):\n",
        "        \n",
        "        temp_visibility = np.array(visibility)         #creating a copy of visibility\n",
        "        \n",
        "        for j in range(n-1):\n",
        "            #print(rute)\n",
        "            \n",
        "            combine_feature = np.zeros(5)     #intializing combine_feature array to zero\n",
        "            cum_prob = np.zeros(5)            #intializing cummulative probability array to zeros\n",
        "            \n",
        "            cur_loc = int(rute[i,j]-1)        #current city of the ant\n",
        "            \n",
        "            temp_visibility[:,cur_loc] = 0     #making visibility of the current city as zero\n",
        "            \n",
        "            p_feature = np.power(pheromne[cur_loc,:],beta)          #disini ada pheromone feture  dimana matrix feromon dipangkatkan dengan beta\n",
        "            v_feature = np.power(temp_visibility[cur_loc,:],alpha)  #disini temporary visibility sebenarnya dipangkatkan dengan alpha\n",
        "            \n",
        "            p_feature = p_feature[:,np.newaxis]                  #adding axis to make a size[5,1]\n",
        "            v_feature = v_feature[:,np.newaxis]                     #adding axis to make a size[5,1]\n",
        "            \n",
        "            combine_feature = np.multiply(p_feature,v_feature)     #hasil kali yang sama antara pfeature dan v feature\n",
        "                        \n",
        "            total = np.sum(combine_feature)                        #sum of all the feature\n",
        "            \n",
        "            probs = combine_feature/total   #finding probability of element probs(i) = comine_feature(i)/total\n",
        "            \n",
        "            cum_prob = np.cumsum(probs)     #calculating cummulative sum\n",
        "            #print(cum_prob)\n",
        "            r = np.random.random_sample()   #randon no in [0,1)\n",
        "            #print(r)\n",
        "            city = np.nonzero(cum_prob>r)[0][0]+1       #finding the next city having probability higher then random(r) \n",
        "            #print(city)\n",
        "            \n",
        "            rute[i,j+1] = city              #rute untuk semut ke i dan titik j+1 itu = city selanjutnya\n",
        "           \n",
        "        left = list(set([i for i in range(1,n+1)])-set(rute[i,:-2]))[0]     #finding the last untraversed city to route\n",
        "        \n",
        "        rute[i,-2] = left                   #adding untraversed city to route\n",
        "       \n",
        "    rute_opt = np.array(rute)               #intializing optimal route\n",
        "    \n",
        "    dist_cost = np.zeros((m,1))             #intializing total_distance_of_tour with zero \n",
        "    \n",
        "    for i in range(m):\n",
        "        \n",
        "        s = 0\n",
        "        for j in range(n-1):\n",
        "            \n",
        "            s = s + d[int(rute_opt[i,j])-1,int(rute_opt[i,j+1])-1]   #calcualting total tour distance\n",
        "        \n",
        "        dist_cost[i]=s                      #storing distance of tour for 'i'th ant at location 'i' \n",
        "       \n",
        "    dist_min_loc = np.argmin(dist_cost)             #finding location of minimum of dist_cost\n",
        "    dist_min_cost = dist_cost[dist_min_loc]         #finging min of dist_cost\n",
        "    \n",
        "    best_route = rute[dist_min_loc,:]               #intializing current traversed as best route\n",
        "    pheromne = (1-e)*pheromne                       #evaporation of pheromne with (1-e)\n",
        "    \n",
        "    for i in range(m):\n",
        "        for j in range(n-1):\n",
        "            dt = 1/dist_cost[i]\n",
        "            pheromne[int(rute_opt[i,j])-1,int(rute_opt[i,j+1])-1] = pheromne[int(rute_opt[i,j])-1,int(rute_opt[i,j+1])-1] + dt   \n",
        "            #updating the pheromne with delta_distance\n",
        "            #delta_distance will be more with min_dist i.e adding more weight to that route  peromne\n",
        "\n",
        "print('route of all the ants at the end :')\n",
        "print(rute_opt)\n",
        "print('best path :',best_route)\n",
        "print('Total Jarak Terbaik',int(dist_min_cost[0]) + d[int(best_route[-2])-1,0],' km')"
      ],
      "metadata": {
        "id": "G1a0SXuOG76e",
        "colab": {
          "base_uri": "https://localhost:8080/"
        },
        "outputId": "933a098e-c1f7-4c1f-fef5-97f21e6cd3c8"
      },
      "execution_count": null,
      "outputs": [
        {
          "output_type": "stream",
          "name": "stdout",
          "text": [
            "route of all the ants at the end :\n",
            "[[1. 5. 4. 3. 2. 1.]\n",
            " [1. 4. 2. 5. 3. 1.]\n",
            " [1. 3. 4. 2. 5. 1.]\n",
            " [1. 5. 2. 4. 3. 1.]\n",
            " [1. 3. 2. 5. 4. 1.]]\n",
            "best path : [1. 4. 2. 5. 3. 1.]\n",
            "Total Jarak Terbaik 41  km\n"
          ]
        }
      ]
    },
    {
      "cell_type": "code",
      "source": [
        "for ite in range(iteration):\n",
        "    \n",
        "    rute[:,0] = 1          #initial starting and ending positon of every ants '1' i.e city '1'\n",
        "    \n",
        "    for i in range(m):\n",
        "        \n",
        "        temp_visibility = np.array(visibility)         #creating a copy of visibility\n",
        "        \n",
        "        for j in range(n-1):\n",
        "            #print(rute)\n",
        "            \n",
        "            combine_feature = np.zeros(5)     #intializing combine_feature array to zero\n",
        "            cum_prob = np.zeros(5)            #intializing cummulative probability array to zeros\n",
        "            \n",
        "            cur_loc = int(rute[i,j]-1)        #current city of the ant\n",
        "            \n",
        "            temp_visibility[:,cur_loc] = 0     #making visibility of the current city as zero\n",
        "            \n",
        "            p_feature = np.power(pheromne[cur_loc,:],beta)         #calculating pheromne feature \n",
        "            v_feature = np.power(temp_visibility[cur_loc,:],alpha)  #calculating visibility feature\n",
        "            \n",
        "            p_feature = p_feature[:,np.newaxis]                     #adding axis to make a size[5,1]\n",
        "            v_feature = v_feature[:,np.newaxis]                     #adding axis to make a size[5,1]\n",
        "            \n",
        "            combine_feature = np.multiply(p_feature,v_feature)     #calculating the combine feature\n",
        "                        \n",
        "            total = np.sum(combine_feature)                        #sum of all the feature\n",
        "            \n",
        "            probs = combine_feature/total   #finding probability of element probs(i) = comine_feature(i)/total\n",
        "            \n",
        "            cum_prob = np.cumsum(probs)     #calculating cummulative sum\n",
        "            #print(cum_prob)\n",
        "            r = np.random.random_sample()   #randon no in [0,1)\n",
        "            #print(r)\n",
        "            city = np.nonzero(cum_prob>r)[0][0]+1       #finding the next city having probability higher then random(r) \n",
        "            #print(city)\n",
        "            \n",
        "            rute[i,j+1] = city              #adding city to route \n",
        "           \n",
        "        left = list(set([i for i in range(1,n+1)])-set(rute[i,:-2]))[0]     #finding the last untraversed city to route\n",
        "        \n",
        "        rute[i,-2] = left                   #adding untraversed city to route\n",
        "       \n",
        "    rute_opt = np.array(rute)               #intializing optimal route\n",
        "    \n",
        "    dist_cost = np.zeros((m,1))             #intializing total_distance_of_tour with zero \n",
        "    \n",
        "    for i in range(m):\n",
        "        \n",
        "        s = 0\n",
        "        for j in range(n-1):\n",
        "            \n",
        "            s = s + d[int(rute_opt[i,j])-1,int(rute_opt[i,j+1])-1]   #calcualting total tour distance\n",
        "        \n",
        "        dist_cost[i]=s                      #storing distance of tour for 'i'th ant at location 'i' \n",
        "       \n",
        "    dist_min_loc = np.argmin(dist_cost)             #finding location of minimum of dist_cost\n",
        "    dist_min_cost = dist_cost[dist_min_loc]         #finging min of dist_cost\n",
        "    \n",
        "    best_route = rute[dist_min_loc,:]               #intializing current traversed as best route\n",
        "    pheromne = (1-e)*pheromne                       #evaporation of pheromne with (1-e)\n",
        "    \n",
        "    for i in range(m):\n",
        "        for j in range(n-1):\n",
        "            dt = 1/dist_cost[i]\n",
        "            pheromne[int(rute_opt[i,j])-1,int(rute_opt[i,j+1])-1] = pheromne[int(rute_opt[i,j])-1,int(rute_opt[i,j+1])-1] + dt   \n",
        "            #updating the pheromne with delta_distance\n",
        "            #delta_distance will be more with min_dist i.e adding more weight to that route  peromne\n",
        "\n",
        "print('route of all the ants at the end :')\n",
        "print(rute_opt)\n",
        "print()\n",
        "print('best path :',best_route)\n",
        "print('cost of the best path',int(dist_min_cost[0]) + d[int(best_route[-2])-1,0])"
      ],
      "metadata": {
        "colab": {
          "base_uri": "https://localhost:8080/"
        },
        "id": "WCWzmsW9cfhr",
        "outputId": "f5904d47-63a5-4a1d-debb-f7596eb79d5d"
      },
      "execution_count": null,
      "outputs": [
        {
          "output_type": "stream",
          "name": "stdout",
          "text": [
            "route of all the ants at the end :\n",
            "[[1. 3. 2. 5. 4. 1.]\n",
            " [1. 4. 3. 2. 5. 1.]\n",
            " [1. 5. 3. 2. 4. 1.]\n",
            " [1. 5. 3. 2. 4. 1.]\n",
            " [1. 5. 3. 4. 2. 1.]]\n",
            "\n",
            "best path : [1. 5. 3. 2. 4. 1.]\n",
            "cost of the best path 25\n"
          ]
        }
      ]
    },
    {
      "cell_type": "code",
      "source": [
        "print(rute)"
      ],
      "metadata": {
        "id": "32bBtplJP5s_",
        "outputId": "7cf08f8a-2ace-4308-877e-4719cd0e6427",
        "colab": {
          "base_uri": "https://localhost:8080/"
        }
      },
      "execution_count": null,
      "outputs": [
        {
          "output_type": "stream",
          "name": "stdout",
          "text": [
            "[[1. 3. 2. 5. 4. 1.]\n",
            " [1. 4. 3. 2. 5. 1.]\n",
            " [1. 5. 3. 2. 4. 1.]\n",
            " [1. 5. 3. 2. 4. 1.]\n",
            " [1. 5. 3. 4. 2. 1.]]\n"
          ]
        }
      ]
    },
    {
      "cell_type": "code",
      "source": [
        "print(pheromne)"
      ],
      "metadata": {
        "colab": {
          "base_uri": "https://localhost:8080/"
        },
        "id": "ZCpa_3_WcxQ8",
        "outputId": "491a0e1a-302e-47c9-f19c-5ebb4f5b2ed4"
      },
      "execution_count": null,
      "outputs": [
        {
          "output_type": "stream",
          "name": "stdout",
          "text": [
            "[[0.081      0.10193023 0.15352747 0.17223153 0.17895396]\n",
            " [0.081      0.081      0.081      0.11041176 0.20894046]\n",
            " [0.081      0.16525577 0.081      0.18977862 0.10671429]\n",
            " [0.081      0.20333114 0.16553782 0.081      0.11203448]\n",
            " [0.081      0.13612605 0.20657791 0.13422129 0.081     ]]\n"
          ]
        }
      ]
    },
    {
      "cell_type": "code",
      "source": [
        "print(p_feature)"
      ],
      "metadata": {
        "colab": {
          "base_uri": "https://localhost:8080/"
        },
        "id": "2PN0fJFbB_q1",
        "outputId": "4956e97c-b397-4c1d-854e-ca6369cd8b6e"
      },
      "execution_count": null,
      "outputs": [
        {
          "output_type": "stream",
          "name": "stdout",
          "text": [
            "[[0.0081    ]\n",
            " [0.01405918]\n",
            " [0.03656388]\n",
            " [0.0081    ]\n",
            " [0.0081    ]]\n"
          ]
        }
      ]
    },
    {
      "cell_type": "code",
      "source": [
        "print(v_feature)"
      ],
      "metadata": {
        "colab": {
          "base_uri": "https://localhost:8080/"
        },
        "id": "me-mcRZRCHiO",
        "outputId": "16e8dc10-dc44-4924-dd1e-4dd86e8b1849"
      },
      "execution_count": null,
      "outputs": [
        {
          "output_type": "stream",
          "name": "stdout",
          "text": [
            "[[0.        ]\n",
            " [0.        ]\n",
            " [0.        ]\n",
            " [0.76276521]\n",
            " [0.        ]]\n"
          ]
        }
      ]
    },
    {
      "cell_type": "code",
      "source": [
        "print('combine feature: ',combine_feature)\n",
        "print('total: ',total)\n",
        "print('probs: ',probs)\n",
        "print('cumulative probabilitas: ',cum_prob)"
      ],
      "metadata": {
        "colab": {
          "base_uri": "https://localhost:8080/"
        },
        "id": "i3_cP5DDCLpo",
        "outputId": "ddab5054-92a3-42a5-9f4e-2f6d7ea4f678"
      },
      "execution_count": null,
      "outputs": [
        {
          "output_type": "stream",
          "name": "stdout",
          "text": [
            "combine feature:  [[0.       ]\n",
            " [0.       ]\n",
            " [0.       ]\n",
            " [0.0061784]\n",
            " [0.       ]]\n",
            "total:  0.006178398166839676\n",
            "probs:  [[0.]\n",
            " [0.]\n",
            " [0.]\n",
            " [1.]\n",
            " [0.]]\n",
            "cumulative probabilitas:  [0. 0. 0. 1. 1.]\n"
          ]
        }
      ]
    },
    {
      "cell_type": "code",
      "source": [
        "print('r: ',r)\n",
        "print('city: ',city)"
      ],
      "metadata": {
        "colab": {
          "base_uri": "https://localhost:8080/"
        },
        "id": "0TLo5elhCwlG",
        "outputId": "8a74c14c-a7f9-4384-cc6b-4a2e594bcdd9"
      },
      "execution_count": null,
      "outputs": [
        {
          "output_type": "stream",
          "name": "stdout",
          "text": [
            "r:  0.709158440765344\n",
            "city:  4\n"
          ]
        }
      ]
    }
  ]
}