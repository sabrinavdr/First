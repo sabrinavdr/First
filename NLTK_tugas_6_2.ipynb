{
  "cells": [
    {
      "cell_type": "markdown",
      "metadata": {
        "id": "view-in-github",
        "colab_type": "text"
      },
      "source": [
        "<a href=\"https://colab.research.google.com/github/sabrinavdr/First/blob/main/NLTK_tugas_6_2.ipynb\" target=\"_parent\"><img src=\"https://colab.research.google.com/assets/colab-badge.svg\" alt=\"Open In Colab\"/></a>"
      ]
    },
    {
      "cell_type": "code",
      "execution_count": null,
      "id": "955d7dfc",
      "metadata": {
        "id": "955d7dfc"
      },
      "outputs": [],
      "source": [
        "import nltk"
      ]
    },
    {
      "cell_type": "markdown",
      "id": "087d79f7",
      "metadata": {
        "id": "087d79f7"
      },
      "source": [
        "# he had spoken at the table"
      ]
    },
    {
      "cell_type": "code",
      "execution_count": null,
      "id": "3643ecef",
      "metadata": {
        "id": "3643ecef"
      },
      "outputs": [],
      "source": [
        "grammar2 = nltk.CFG.fromstring(\"\"\"\n",
        "S -> NP VP\n",
        "NP -> PRP\n",
        "VP -> VBD VP\n",
        "VP -> VBN PP\n",
        "PP -> IN NP\n",
        "NP -> DT NN\n",
        "\n",
        "PRP -> \"he\"\n",
        "VBD -> \"had\"\n",
        "VBN -> \"spoken\"\n",
        "IN -> \"at\"\n",
        "DT -> \"the\"\n",
        "NN -> \"table\"\n",
        "\"\"\")"
      ]
    },
    {
      "cell_type": "code",
      "execution_count": null,
      "id": "2bfb3c87",
      "metadata": {
        "id": "2bfb3c87",
        "outputId": "2bd88868-dd09-4022-92dc-b54c12ecb6a1"
      },
      "outputs": [
        {
          "name": "stdout",
          "output_type": "stream",
          "text": [
            "(S\n",
            "  (NP (PRP he))\n",
            "  (VP\n",
            "    (VBD had)\n",
            "    (VP (VBN spoken) (PP (IN at) (NP (DT the) (NN table))))))\n"
          ]
        }
      ],
      "source": [
        "sent = ['he','had','spoken','at','the','table']\n",
        "parser = nltk.ChartParser(grammar2)\n",
        "for tree in parser.parse(sent): print(tree)"
      ]
    },
    {
      "cell_type": "code",
      "execution_count": null,
      "id": "3c3fb67f",
      "metadata": {
        "id": "3c3fb67f",
        "outputId": "1724c6d5-f168-4ac8-ac20-5c1ec00a50b9"
      },
      "outputs": [
        {
          "name": "stdout",
          "output_type": "stream",
          "text": [
            "(S\n",
            "  (NP (PRP he))\n",
            "  (VP\n",
            "    (VBD had)\n",
            "    (VP (VBN spoken) (PP (IN at) (NP (DT the) (NN table))))))\n"
          ]
        }
      ],
      "source": [
        "sent = ['he','had','spoken','at','the','table']\n",
        "parser = nltk.RecursiveDescentParser(grammar2)\n",
        "for tree in parser.parse(sent): print(tree)"
      ]
    },
    {
      "cell_type": "code",
      "execution_count": null,
      "id": "77441eec",
      "metadata": {
        "id": "77441eec"
      },
      "outputs": [],
      "source": [
        "grammar2 = nltk.PCFG.fromstring(\"\"\"\n",
        "S -> NP VP [1.0]\n",
        "NP -> PRP [0.5]\n",
        "VP -> VBD VP [0.8]\n",
        "VP -> VBN PP [0.2]\n",
        "PP -> IN NP [1.0]\n",
        "NP -> DT NN [0.5]\n",
        "\n",
        "PRP -> \"he\" [1.0]\n",
        "VBD -> \"had\" [1.0]\n",
        "VBN -> \"spoken\" [1.0]\n",
        "IN -> \"at\" [1.0]\n",
        "DT -> \"the\" [1.0]\n",
        "NN -> \"table\" [1.0]\n",
        "\"\"\")"
      ]
    },
    {
      "cell_type": "code",
      "execution_count": null,
      "id": "a45d48f9",
      "metadata": {
        "id": "a45d48f9",
        "outputId": "67ec48e8-d487-4dba-ff38-e8f213621655"
      },
      "outputs": [
        {
          "name": "stdout",
          "output_type": "stream",
          "text": [
            "Grammar with 12 productions (start state = S)\n",
            "    S -> NP VP [1.0]\n",
            "    NP -> PRP [0.5]\n",
            "    VP -> VBD VP [0.8]\n",
            "    VP -> VBN PP [0.2]\n",
            "    PP -> IN NP [1.0]\n",
            "    NP -> DT NN [0.5]\n",
            "    PRP -> 'he' [1.0]\n",
            "    VBD -> 'had' [1.0]\n",
            "    VBN -> 'spoken' [1.0]\n",
            "    IN -> 'at' [1.0]\n",
            "    DT -> 'the' [1.0]\n",
            "    NN -> 'table' [1.0]\n"
          ]
        }
      ],
      "source": [
        "print(grammar2)"
      ]
    },
    {
      "cell_type": "code",
      "execution_count": null,
      "id": "f6440e99",
      "metadata": {
        "id": "f6440e99",
        "outputId": "7cb19d77-097b-4854-d52d-ca0fcb322ff0"
      },
      "outputs": [
        {
          "name": "stdout",
          "output_type": "stream",
          "text": [
            "(S\n",
            "  (NP (PRP he))\n",
            "  (VP\n",
            "    (VBD had)\n",
            "    (VP (VBN spoken) (PP (IN at) (NP (DT the) (NN table)))))) (p=0.04)\n"
          ]
        }
      ],
      "source": [
        "viterbi_parser = nltk.ViterbiParser(grammar2)\n",
        "for tree in viterbi_parser.parse(['he','had','spoken','at','the','table']):print(tree)"
      ]
    },
    {
      "cell_type": "code",
      "execution_count": null,
      "id": "2c8c158f",
      "metadata": {
        "id": "2c8c158f"
      },
      "outputs": [],
      "source": [
        "from nltk.draw.tree import draw_trees\n",
        "draw_trees(tree)"
      ]
    },
    {
      "cell_type": "code",
      "execution_count": null,
      "id": "8710bb48",
      "metadata": {
        "id": "8710bb48"
      },
      "outputs": [],
      "source": []
    }
  ],
  "metadata": {
    "kernelspec": {
      "display_name": "Python 3 (ipykernel)",
      "language": "python",
      "name": "python3"
    },
    "language_info": {
      "codemirror_mode": {
        "name": "ipython",
        "version": 3
      },
      "file_extension": ".py",
      "mimetype": "text/x-python",
      "name": "python",
      "nbconvert_exporter": "python",
      "pygments_lexer": "ipython3",
      "version": "3.9.13"
    },
    "colab": {
      "provenance": [],
      "include_colab_link": true
    }
  },
  "nbformat": 4,
  "nbformat_minor": 5
}