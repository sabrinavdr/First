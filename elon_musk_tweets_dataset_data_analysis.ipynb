{
  "metadata": {
    "kernelspec": {
      "language": "python",
      "display_name": "Python 3",
      "name": "python3"
    },
    "language_info": {
      "pygments_lexer": "ipython3",
      "nbconvert_exporter": "python",
      "version": "3.6.4",
      "file_extension": ".py",
      "codemirror_mode": {
        "name": "ipython",
        "version": 3
      },
      "name": "python",
      "mimetype": "text/x-python"
    },
    "colab": {
      "provenance": [],
      "include_colab_link": true
    },
    "accelerator": "GPU"
  },
  "nbformat_minor": 0,
  "nbformat": 4,
  "cells": [
    {
      "cell_type": "markdown",
      "metadata": {
        "id": "view-in-github",
        "colab_type": "text"
      },
      "source": [
        "<a href=\"https://colab.research.google.com/github/sabrinavdr/First/blob/main/elon_musk_tweets_dataset_data_analysis.ipynb\" target=\"_parent\"><img src=\"https://colab.research.google.com/assets/colab-badge.svg\" alt=\"Open In Colab\"/></a>"
      ]
    },
    {
      "cell_type": "code",
      "source": [
        "import numpy as np # linear algebra\n",
        "import pandas as pd # data processing, CSV file I/O (e.g. pd.read_csv)\n",
        "import matplotlib.pyplot as plt\n",
        "\n",
        "import os\n",
        "for dirname, _, filenames in os.walk('/kaggle/input'):\n",
        "    for filename in filenames:\n",
        "        print(os.path.join(dirname, filename))"
      ],
      "metadata": {
        "_uuid": "8f2839f25d086af736a60e9eeb907d3b93b6e0e5",
        "_cell_guid": "b1076dfc-b9ad-4769-8c92-a6c4dae69d19",
        "execution": {
          "iopub.status.busy": "2022-09-16T07:50:03.022672Z",
          "iopub.execute_input": "2022-09-16T07:50:03.023095Z",
          "iopub.status.idle": "2022-09-16T07:50:03.036102Z",
          "shell.execute_reply.started": "2022-09-16T07:50:03.023059Z",
          "shell.execute_reply": "2022-09-16T07:50:03.03506Z"
        },
        "trusted": true,
        "id": "--uJH_z_5K17"
      },
      "execution_count": 17,
      "outputs": []
    },
    {
      "cell_type": "code",
      "source": [
        "tweets = pd.read_csv(\"/content/elonmusk.csv\")"
      ],
      "metadata": {
        "execution": {
          "iopub.status.busy": "2022-09-16T07:50:03.038337Z",
          "iopub.execute_input": "2022-09-16T07:50:03.039113Z",
          "iopub.status.idle": "2022-09-16T07:50:03.121578Z",
          "shell.execute_reply.started": "2022-09-16T07:50:03.039066Z",
          "shell.execute_reply": "2022-09-16T07:50:03.119849Z"
        },
        "trusted": true,
        "id": "XvuqIjLm5K1_"
      },
      "execution_count": 4,
      "outputs": []
    },
    {
      "cell_type": "code",
      "source": [
        "tweets"
      ],
      "metadata": {
        "execution": {
          "iopub.status.busy": "2022-09-16T07:50:03.123114Z",
          "iopub.execute_input": "2022-09-16T07:50:03.123598Z",
          "iopub.status.idle": "2022-09-16T07:50:03.141085Z",
          "shell.execute_reply.started": "2022-09-16T07:50:03.123561Z",
          "shell.execute_reply": "2022-09-16T07:50:03.140212Z"
        },
        "trusted": true,
        "colab": {
          "base_uri": "https://localhost:8080/",
          "height": 423
        },
        "id": "x8X3lX2-5K2B",
        "outputId": "a84a29b5-3ed4-4550-bfe4-d2d678cf069d"
      },
      "execution_count": 5,
      "outputs": [
        {
          "output_type": "execute_result",
          "data": {
            "text/plain": [
              "                    Date Created  Number of Likes     Source of Tweet  \\\n",
              "0      2022-09-12 05:44:11+00:00             1524  Twitter for iPhone   \n",
              "1      2022-09-12 05:43:02+00:00            19631  Twitter for iPhone   \n",
              "2      2022-09-12 04:19:57+00:00             9221  Twitter for iPhone   \n",
              "3      2022-09-12 03:25:03+00:00              944  Twitter for iPhone   \n",
              "4      2022-09-12 01:48:49+00:00             3710  Twitter for iPhone   \n",
              "...                          ...              ...                 ...   \n",
              "17432  2011-12-03 08:22:07+00:00               51  Twitter for iPhone   \n",
              "17433  2011-12-03 08:20:28+00:00               53  Twitter for iPhone   \n",
              "17434  2011-12-01 10:29:04+00:00               75  Twitter Web Client   \n",
              "17435  2011-12-01 09:55:11+00:00              189  Twitter Web Client   \n",
              "17436  2010-06-04 18:31:57+00:00             6042  Twitter Web Client   \n",
              "\n",
              "                                                  Tweets  \n",
              "0      @teslaownersSV @cb_doge @Tesla @mayemusk I gue...  \n",
              "1      @cb_doge @Tesla @mayemusk Still doing same thi...  \n",
              "2      Looks good to roll out to all Tesla owners wit...  \n",
              "3      @Tesla__Mania @WholeMarsBlog That is probably ...  \n",
              "4      @WholeMarsBlog Real-world validation &amp; bil...  \n",
              "...                                                  ...  \n",
              "17432                  That was a total non sequitur btw  \n",
              "17433  Great Voltaire quote, arguably better than Twa...  \n",
              "17434  I made the volume on the Model S http://t.co/w...  \n",
              "17435  Went to Iceland on Sat to ride bumper cars on ...  \n",
              "17436  Please ignore prior tweets, as that was someon...  \n",
              "\n",
              "[17437 rows x 4 columns]"
            ],
            "text/html": [
              "\n",
              "  <div id=\"df-07801a82-ce7a-42a2-a244-3ca12f373190\">\n",
              "    <div class=\"colab-df-container\">\n",
              "      <div>\n",
              "<style scoped>\n",
              "    .dataframe tbody tr th:only-of-type {\n",
              "        vertical-align: middle;\n",
              "    }\n",
              "\n",
              "    .dataframe tbody tr th {\n",
              "        vertical-align: top;\n",
              "    }\n",
              "\n",
              "    .dataframe thead th {\n",
              "        text-align: right;\n",
              "    }\n",
              "</style>\n",
              "<table border=\"1\" class=\"dataframe\">\n",
              "  <thead>\n",
              "    <tr style=\"text-align: right;\">\n",
              "      <th></th>\n",
              "      <th>Date Created</th>\n",
              "      <th>Number of Likes</th>\n",
              "      <th>Source of Tweet</th>\n",
              "      <th>Tweets</th>\n",
              "    </tr>\n",
              "  </thead>\n",
              "  <tbody>\n",
              "    <tr>\n",
              "      <th>0</th>\n",
              "      <td>2022-09-12 05:44:11+00:00</td>\n",
              "      <td>1524</td>\n",
              "      <td>Twitter for iPhone</td>\n",
              "      <td>@teslaownersSV @cb_doge @Tesla @mayemusk I gue...</td>\n",
              "    </tr>\n",
              "    <tr>\n",
              "      <th>1</th>\n",
              "      <td>2022-09-12 05:43:02+00:00</td>\n",
              "      <td>19631</td>\n",
              "      <td>Twitter for iPhone</td>\n",
              "      <td>@cb_doge @Tesla @mayemusk Still doing same thi...</td>\n",
              "    </tr>\n",
              "    <tr>\n",
              "      <th>2</th>\n",
              "      <td>2022-09-12 04:19:57+00:00</td>\n",
              "      <td>9221</td>\n",
              "      <td>Twitter for iPhone</td>\n",
              "      <td>Looks good to roll out to all Tesla owners wit...</td>\n",
              "    </tr>\n",
              "    <tr>\n",
              "      <th>3</th>\n",
              "      <td>2022-09-12 03:25:03+00:00</td>\n",
              "      <td>944</td>\n",
              "      <td>Twitter for iPhone</td>\n",
              "      <td>@Tesla__Mania @WholeMarsBlog That is probably ...</td>\n",
              "    </tr>\n",
              "    <tr>\n",
              "      <th>4</th>\n",
              "      <td>2022-09-12 01:48:49+00:00</td>\n",
              "      <td>3710</td>\n",
              "      <td>Twitter for iPhone</td>\n",
              "      <td>@WholeMarsBlog Real-world validation &amp;amp; bil...</td>\n",
              "    </tr>\n",
              "    <tr>\n",
              "      <th>...</th>\n",
              "      <td>...</td>\n",
              "      <td>...</td>\n",
              "      <td>...</td>\n",
              "      <td>...</td>\n",
              "    </tr>\n",
              "    <tr>\n",
              "      <th>17432</th>\n",
              "      <td>2011-12-03 08:22:07+00:00</td>\n",
              "      <td>51</td>\n",
              "      <td>Twitter for iPhone</td>\n",
              "      <td>That was a total non sequitur btw</td>\n",
              "    </tr>\n",
              "    <tr>\n",
              "      <th>17433</th>\n",
              "      <td>2011-12-03 08:20:28+00:00</td>\n",
              "      <td>53</td>\n",
              "      <td>Twitter for iPhone</td>\n",
              "      <td>Great Voltaire quote, arguably better than Twa...</td>\n",
              "    </tr>\n",
              "    <tr>\n",
              "      <th>17434</th>\n",
              "      <td>2011-12-01 10:29:04+00:00</td>\n",
              "      <td>75</td>\n",
              "      <td>Twitter Web Client</td>\n",
              "      <td>I made the volume on the Model S http://t.co/w...</td>\n",
              "    </tr>\n",
              "    <tr>\n",
              "      <th>17435</th>\n",
              "      <td>2011-12-01 09:55:11+00:00</td>\n",
              "      <td>189</td>\n",
              "      <td>Twitter Web Client</td>\n",
              "      <td>Went to Iceland on Sat to ride bumper cars on ...</td>\n",
              "    </tr>\n",
              "    <tr>\n",
              "      <th>17436</th>\n",
              "      <td>2010-06-04 18:31:57+00:00</td>\n",
              "      <td>6042</td>\n",
              "      <td>Twitter Web Client</td>\n",
              "      <td>Please ignore prior tweets, as that was someon...</td>\n",
              "    </tr>\n",
              "  </tbody>\n",
              "</table>\n",
              "<p>17437 rows × 4 columns</p>\n",
              "</div>\n",
              "      <button class=\"colab-df-convert\" onclick=\"convertToInteractive('df-07801a82-ce7a-42a2-a244-3ca12f373190')\"\n",
              "              title=\"Convert this dataframe to an interactive table.\"\n",
              "              style=\"display:none;\">\n",
              "        \n",
              "  <svg xmlns=\"http://www.w3.org/2000/svg\" height=\"24px\"viewBox=\"0 0 24 24\"\n",
              "       width=\"24px\">\n",
              "    <path d=\"M0 0h24v24H0V0z\" fill=\"none\"/>\n",
              "    <path d=\"M18.56 5.44l.94 2.06.94-2.06 2.06-.94-2.06-.94-.94-2.06-.94 2.06-2.06.94zm-11 1L8.5 8.5l.94-2.06 2.06-.94-2.06-.94L8.5 2.5l-.94 2.06-2.06.94zm10 10l.94 2.06.94-2.06 2.06-.94-2.06-.94-.94-2.06-.94 2.06-2.06.94z\"/><path d=\"M17.41 7.96l-1.37-1.37c-.4-.4-.92-.59-1.43-.59-.52 0-1.04.2-1.43.59L10.3 9.45l-7.72 7.72c-.78.78-.78 2.05 0 2.83L4 21.41c.39.39.9.59 1.41.59.51 0 1.02-.2 1.41-.59l7.78-7.78 2.81-2.81c.8-.78.8-2.07 0-2.86zM5.41 20L4 18.59l7.72-7.72 1.47 1.35L5.41 20z\"/>\n",
              "  </svg>\n",
              "      </button>\n",
              "      \n",
              "  <style>\n",
              "    .colab-df-container {\n",
              "      display:flex;\n",
              "      flex-wrap:wrap;\n",
              "      gap: 12px;\n",
              "    }\n",
              "\n",
              "    .colab-df-convert {\n",
              "      background-color: #E8F0FE;\n",
              "      border: none;\n",
              "      border-radius: 50%;\n",
              "      cursor: pointer;\n",
              "      display: none;\n",
              "      fill: #1967D2;\n",
              "      height: 32px;\n",
              "      padding: 0 0 0 0;\n",
              "      width: 32px;\n",
              "    }\n",
              "\n",
              "    .colab-df-convert:hover {\n",
              "      background-color: #E2EBFA;\n",
              "      box-shadow: 0px 1px 2px rgba(60, 64, 67, 0.3), 0px 1px 3px 1px rgba(60, 64, 67, 0.15);\n",
              "      fill: #174EA6;\n",
              "    }\n",
              "\n",
              "    [theme=dark] .colab-df-convert {\n",
              "      background-color: #3B4455;\n",
              "      fill: #D2E3FC;\n",
              "    }\n",
              "\n",
              "    [theme=dark] .colab-df-convert:hover {\n",
              "      background-color: #434B5C;\n",
              "      box-shadow: 0px 1px 3px 1px rgba(0, 0, 0, 0.15);\n",
              "      filter: drop-shadow(0px 1px 2px rgba(0, 0, 0, 0.3));\n",
              "      fill: #FFFFFF;\n",
              "    }\n",
              "  </style>\n",
              "\n",
              "      <script>\n",
              "        const buttonEl =\n",
              "          document.querySelector('#df-07801a82-ce7a-42a2-a244-3ca12f373190 button.colab-df-convert');\n",
              "        buttonEl.style.display =\n",
              "          google.colab.kernel.accessAllowed ? 'block' : 'none';\n",
              "\n",
              "        async function convertToInteractive(key) {\n",
              "          const element = document.querySelector('#df-07801a82-ce7a-42a2-a244-3ca12f373190');\n",
              "          const dataTable =\n",
              "            await google.colab.kernel.invokeFunction('convertToInteractive',\n",
              "                                                     [key], {});\n",
              "          if (!dataTable) return;\n",
              "\n",
              "          const docLinkHtml = 'Like what you see? Visit the ' +\n",
              "            '<a target=\"_blank\" href=https://colab.research.google.com/notebooks/data_table.ipynb>data table notebook</a>'\n",
              "            + ' to learn more about interactive tables.';\n",
              "          element.innerHTML = '';\n",
              "          dataTable['output_type'] = 'display_data';\n",
              "          await google.colab.output.renderOutput(dataTable, element);\n",
              "          const docLink = document.createElement('div');\n",
              "          docLink.innerHTML = docLinkHtml;\n",
              "          element.appendChild(docLink);\n",
              "        }\n",
              "      </script>\n",
              "    </div>\n",
              "  </div>\n",
              "  "
            ]
          },
          "metadata": {},
          "execution_count": 5
        }
      ]
    },
    {
      "cell_type": "markdown",
      "source": [
        "# **Now we have the dataset let's ask some questions.**\n"
      ],
      "metadata": {
        "id": "NUX_66oi5K2B"
      }
    },
    {
      "cell_type": "markdown",
      "source": [
        "# 1. How many tweets he has done according to this dataset?"
      ],
      "metadata": {
        "id": "yeZLLqND5K2D"
      }
    },
    {
      "cell_type": "code",
      "source": [
        "tweets"
      ],
      "metadata": {
        "execution": {
          "iopub.status.busy": "2022-09-16T07:50:03.143126Z",
          "iopub.execute_input": "2022-09-16T07:50:03.143725Z",
          "iopub.status.idle": "2022-09-16T07:50:03.158959Z",
          "shell.execute_reply.started": "2022-09-16T07:50:03.143688Z",
          "shell.execute_reply": "2022-09-16T07:50:03.157942Z"
        },
        "trusted": true,
        "colab": {
          "base_uri": "https://localhost:8080/",
          "height": 423
        },
        "id": "q2M8jtBR5K2D",
        "outputId": "d3a8f3c0-d1ac-4103-a537-c45728d1d12d"
      },
      "execution_count": 6,
      "outputs": [
        {
          "output_type": "execute_result",
          "data": {
            "text/plain": [
              "                    Date Created  Number of Likes     Source of Tweet  \\\n",
              "0      2022-09-12 05:44:11+00:00             1524  Twitter for iPhone   \n",
              "1      2022-09-12 05:43:02+00:00            19631  Twitter for iPhone   \n",
              "2      2022-09-12 04:19:57+00:00             9221  Twitter for iPhone   \n",
              "3      2022-09-12 03:25:03+00:00              944  Twitter for iPhone   \n",
              "4      2022-09-12 01:48:49+00:00             3710  Twitter for iPhone   \n",
              "...                          ...              ...                 ...   \n",
              "17432  2011-12-03 08:22:07+00:00               51  Twitter for iPhone   \n",
              "17433  2011-12-03 08:20:28+00:00               53  Twitter for iPhone   \n",
              "17434  2011-12-01 10:29:04+00:00               75  Twitter Web Client   \n",
              "17435  2011-12-01 09:55:11+00:00              189  Twitter Web Client   \n",
              "17436  2010-06-04 18:31:57+00:00             6042  Twitter Web Client   \n",
              "\n",
              "                                                  Tweets  \n",
              "0      @teslaownersSV @cb_doge @Tesla @mayemusk I gue...  \n",
              "1      @cb_doge @Tesla @mayemusk Still doing same thi...  \n",
              "2      Looks good to roll out to all Tesla owners wit...  \n",
              "3      @Tesla__Mania @WholeMarsBlog That is probably ...  \n",
              "4      @WholeMarsBlog Real-world validation &amp; bil...  \n",
              "...                                                  ...  \n",
              "17432                  That was a total non sequitur btw  \n",
              "17433  Great Voltaire quote, arguably better than Twa...  \n",
              "17434  I made the volume on the Model S http://t.co/w...  \n",
              "17435  Went to Iceland on Sat to ride bumper cars on ...  \n",
              "17436  Please ignore prior tweets, as that was someon...  \n",
              "\n",
              "[17437 rows x 4 columns]"
            ],
            "text/html": [
              "\n",
              "  <div id=\"df-388f3392-33a7-4b68-beef-75dd7a07e505\">\n",
              "    <div class=\"colab-df-container\">\n",
              "      <div>\n",
              "<style scoped>\n",
              "    .dataframe tbody tr th:only-of-type {\n",
              "        vertical-align: middle;\n",
              "    }\n",
              "\n",
              "    .dataframe tbody tr th {\n",
              "        vertical-align: top;\n",
              "    }\n",
              "\n",
              "    .dataframe thead th {\n",
              "        text-align: right;\n",
              "    }\n",
              "</style>\n",
              "<table border=\"1\" class=\"dataframe\">\n",
              "  <thead>\n",
              "    <tr style=\"text-align: right;\">\n",
              "      <th></th>\n",
              "      <th>Date Created</th>\n",
              "      <th>Number of Likes</th>\n",
              "      <th>Source of Tweet</th>\n",
              "      <th>Tweets</th>\n",
              "    </tr>\n",
              "  </thead>\n",
              "  <tbody>\n",
              "    <tr>\n",
              "      <th>0</th>\n",
              "      <td>2022-09-12 05:44:11+00:00</td>\n",
              "      <td>1524</td>\n",
              "      <td>Twitter for iPhone</td>\n",
              "      <td>@teslaownersSV @cb_doge @Tesla @mayemusk I gue...</td>\n",
              "    </tr>\n",
              "    <tr>\n",
              "      <th>1</th>\n",
              "      <td>2022-09-12 05:43:02+00:00</td>\n",
              "      <td>19631</td>\n",
              "      <td>Twitter for iPhone</td>\n",
              "      <td>@cb_doge @Tesla @mayemusk Still doing same thi...</td>\n",
              "    </tr>\n",
              "    <tr>\n",
              "      <th>2</th>\n",
              "      <td>2022-09-12 04:19:57+00:00</td>\n",
              "      <td>9221</td>\n",
              "      <td>Twitter for iPhone</td>\n",
              "      <td>Looks good to roll out to all Tesla owners wit...</td>\n",
              "    </tr>\n",
              "    <tr>\n",
              "      <th>3</th>\n",
              "      <td>2022-09-12 03:25:03+00:00</td>\n",
              "      <td>944</td>\n",
              "      <td>Twitter for iPhone</td>\n",
              "      <td>@Tesla__Mania @WholeMarsBlog That is probably ...</td>\n",
              "    </tr>\n",
              "    <tr>\n",
              "      <th>4</th>\n",
              "      <td>2022-09-12 01:48:49+00:00</td>\n",
              "      <td>3710</td>\n",
              "      <td>Twitter for iPhone</td>\n",
              "      <td>@WholeMarsBlog Real-world validation &amp;amp; bil...</td>\n",
              "    </tr>\n",
              "    <tr>\n",
              "      <th>...</th>\n",
              "      <td>...</td>\n",
              "      <td>...</td>\n",
              "      <td>...</td>\n",
              "      <td>...</td>\n",
              "    </tr>\n",
              "    <tr>\n",
              "      <th>17432</th>\n",
              "      <td>2011-12-03 08:22:07+00:00</td>\n",
              "      <td>51</td>\n",
              "      <td>Twitter for iPhone</td>\n",
              "      <td>That was a total non sequitur btw</td>\n",
              "    </tr>\n",
              "    <tr>\n",
              "      <th>17433</th>\n",
              "      <td>2011-12-03 08:20:28+00:00</td>\n",
              "      <td>53</td>\n",
              "      <td>Twitter for iPhone</td>\n",
              "      <td>Great Voltaire quote, arguably better than Twa...</td>\n",
              "    </tr>\n",
              "    <tr>\n",
              "      <th>17434</th>\n",
              "      <td>2011-12-01 10:29:04+00:00</td>\n",
              "      <td>75</td>\n",
              "      <td>Twitter Web Client</td>\n",
              "      <td>I made the volume on the Model S http://t.co/w...</td>\n",
              "    </tr>\n",
              "    <tr>\n",
              "      <th>17435</th>\n",
              "      <td>2011-12-01 09:55:11+00:00</td>\n",
              "      <td>189</td>\n",
              "      <td>Twitter Web Client</td>\n",
              "      <td>Went to Iceland on Sat to ride bumper cars on ...</td>\n",
              "    </tr>\n",
              "    <tr>\n",
              "      <th>17436</th>\n",
              "      <td>2010-06-04 18:31:57+00:00</td>\n",
              "      <td>6042</td>\n",
              "      <td>Twitter Web Client</td>\n",
              "      <td>Please ignore prior tweets, as that was someon...</td>\n",
              "    </tr>\n",
              "  </tbody>\n",
              "</table>\n",
              "<p>17437 rows × 4 columns</p>\n",
              "</div>\n",
              "      <button class=\"colab-df-convert\" onclick=\"convertToInteractive('df-388f3392-33a7-4b68-beef-75dd7a07e505')\"\n",
              "              title=\"Convert this dataframe to an interactive table.\"\n",
              "              style=\"display:none;\">\n",
              "        \n",
              "  <svg xmlns=\"http://www.w3.org/2000/svg\" height=\"24px\"viewBox=\"0 0 24 24\"\n",
              "       width=\"24px\">\n",
              "    <path d=\"M0 0h24v24H0V0z\" fill=\"none\"/>\n",
              "    <path d=\"M18.56 5.44l.94 2.06.94-2.06 2.06-.94-2.06-.94-.94-2.06-.94 2.06-2.06.94zm-11 1L8.5 8.5l.94-2.06 2.06-.94-2.06-.94L8.5 2.5l-.94 2.06-2.06.94zm10 10l.94 2.06.94-2.06 2.06-.94-2.06-.94-.94-2.06-.94 2.06-2.06.94z\"/><path d=\"M17.41 7.96l-1.37-1.37c-.4-.4-.92-.59-1.43-.59-.52 0-1.04.2-1.43.59L10.3 9.45l-7.72 7.72c-.78.78-.78 2.05 0 2.83L4 21.41c.39.39.9.59 1.41.59.51 0 1.02-.2 1.41-.59l7.78-7.78 2.81-2.81c.8-.78.8-2.07 0-2.86zM5.41 20L4 18.59l7.72-7.72 1.47 1.35L5.41 20z\"/>\n",
              "  </svg>\n",
              "      </button>\n",
              "      \n",
              "  <style>\n",
              "    .colab-df-container {\n",
              "      display:flex;\n",
              "      flex-wrap:wrap;\n",
              "      gap: 12px;\n",
              "    }\n",
              "\n",
              "    .colab-df-convert {\n",
              "      background-color: #E8F0FE;\n",
              "      border: none;\n",
              "      border-radius: 50%;\n",
              "      cursor: pointer;\n",
              "      display: none;\n",
              "      fill: #1967D2;\n",
              "      height: 32px;\n",
              "      padding: 0 0 0 0;\n",
              "      width: 32px;\n",
              "    }\n",
              "\n",
              "    .colab-df-convert:hover {\n",
              "      background-color: #E2EBFA;\n",
              "      box-shadow: 0px 1px 2px rgba(60, 64, 67, 0.3), 0px 1px 3px 1px rgba(60, 64, 67, 0.15);\n",
              "      fill: #174EA6;\n",
              "    }\n",
              "\n",
              "    [theme=dark] .colab-df-convert {\n",
              "      background-color: #3B4455;\n",
              "      fill: #D2E3FC;\n",
              "    }\n",
              "\n",
              "    [theme=dark] .colab-df-convert:hover {\n",
              "      background-color: #434B5C;\n",
              "      box-shadow: 0px 1px 3px 1px rgba(0, 0, 0, 0.15);\n",
              "      filter: drop-shadow(0px 1px 2px rgba(0, 0, 0, 0.3));\n",
              "      fill: #FFFFFF;\n",
              "    }\n",
              "  </style>\n",
              "\n",
              "      <script>\n",
              "        const buttonEl =\n",
              "          document.querySelector('#df-388f3392-33a7-4b68-beef-75dd7a07e505 button.colab-df-convert');\n",
              "        buttonEl.style.display =\n",
              "          google.colab.kernel.accessAllowed ? 'block' : 'none';\n",
              "\n",
              "        async function convertToInteractive(key) {\n",
              "          const element = document.querySelector('#df-388f3392-33a7-4b68-beef-75dd7a07e505');\n",
              "          const dataTable =\n",
              "            await google.colab.kernel.invokeFunction('convertToInteractive',\n",
              "                                                     [key], {});\n",
              "          if (!dataTable) return;\n",
              "\n",
              "          const docLinkHtml = 'Like what you see? Visit the ' +\n",
              "            '<a target=\"_blank\" href=https://colab.research.google.com/notebooks/data_table.ipynb>data table notebook</a>'\n",
              "            + ' to learn more about interactive tables.';\n",
              "          element.innerHTML = '';\n",
              "          dataTable['output_type'] = 'display_data';\n",
              "          await google.colab.output.renderOutput(dataTable, element);\n",
              "          const docLink = document.createElement('div');\n",
              "          docLink.innerHTML = docLinkHtml;\n",
              "          element.appendChild(docLink);\n",
              "        }\n",
              "      </script>\n",
              "    </div>\n",
              "  </div>\n",
              "  "
            ]
          },
          "metadata": {},
          "execution_count": 6
        }
      ]
    },
    {
      "cell_type": "code",
      "source": [
        "tweets.index"
      ],
      "metadata": {
        "execution": {
          "iopub.status.busy": "2022-09-16T07:50:03.160306Z",
          "iopub.execute_input": "2022-09-16T07:50:03.162334Z",
          "iopub.status.idle": "2022-09-16T07:50:03.172085Z",
          "shell.execute_reply.started": "2022-09-16T07:50:03.162278Z",
          "shell.execute_reply": "2022-09-16T07:50:03.171095Z"
        },
        "trusted": true,
        "colab": {
          "base_uri": "https://localhost:8080/"
        },
        "id": "QzC6LHaX5K2D",
        "outputId": "6b298906-8738-42db-a0dd-ad6b48136684"
      },
      "execution_count": 7,
      "outputs": [
        {
          "output_type": "execute_result",
          "data": {
            "text/plain": [
              "RangeIndex(start=0, stop=17437, step=1)"
            ]
          },
          "metadata": {},
          "execution_count": 7
        }
      ]
    },
    {
      "cell_type": "markdown",
      "source": [
        "**17437 tweets**"
      ],
      "metadata": {
        "id": "NzIQUj5M5K2E"
      }
    },
    {
      "cell_type": "markdown",
      "source": [
        "# 2. When did he post first time on Twitter?"
      ],
      "metadata": {
        "id": "njjIiYGf5K2E"
      }
    },
    {
      "cell_type": "code",
      "source": [
        "tweets[\"Date Created\"].sort_values()"
      ],
      "metadata": {
        "execution": {
          "iopub.status.busy": "2022-09-16T07:50:03.173765Z",
          "iopub.execute_input": "2022-09-16T07:50:03.174512Z",
          "iopub.status.idle": "2022-09-16T07:50:03.201024Z",
          "shell.execute_reply.started": "2022-09-16T07:50:03.174473Z",
          "shell.execute_reply": "2022-09-16T07:50:03.199855Z"
        },
        "trusted": true,
        "colab": {
          "base_uri": "https://localhost:8080/"
        },
        "id": "TwTEI9Yj5K2F",
        "outputId": "cecb97fe-0f92-44f1-f5f4-16a68eb97f69"
      },
      "execution_count": 8,
      "outputs": [
        {
          "output_type": "execute_result",
          "data": {
            "text/plain": [
              "17436    2010-06-04 18:31:57+00:00\n",
              "17435    2011-12-01 09:55:11+00:00\n",
              "17434    2011-12-01 10:29:04+00:00\n",
              "17433    2011-12-03 08:20:28+00:00\n",
              "17432    2011-12-03 08:22:07+00:00\n",
              "                   ...            \n",
              "4        2022-09-12 01:48:49+00:00\n",
              "3        2022-09-12 03:25:03+00:00\n",
              "2        2022-09-12 04:19:57+00:00\n",
              "1        2022-09-12 05:43:02+00:00\n",
              "0        2022-09-12 05:44:11+00:00\n",
              "Name: Date Created, Length: 17437, dtype: object"
            ]
          },
          "metadata": {},
          "execution_count": 8
        }
      ]
    },
    {
      "cell_type": "markdown",
      "source": [
        "**2010-06-04 18:31:57+00:00**\n",
        "Note: Twitter uses YYYY-MM-DD \n",
        "converting it into DD-MM-YYYY which will make it less ambiguous\n",
        "so he first posted in\n",
        "**4 June 2010 6:31 PM**"
      ],
      "metadata": {
        "id": "rDXVu7Lf5K2F"
      }
    },
    {
      "cell_type": "markdown",
      "source": [
        "# 3. What are his sources of Tweets?"
      ],
      "metadata": {
        "id": "xzh-lprV5K2F"
      }
    },
    {
      "cell_type": "code",
      "source": [
        "tweets[\"Source of Tweet\"].value_counts()"
      ],
      "metadata": {
        "execution": {
          "iopub.status.busy": "2022-09-16T07:50:03.202542Z",
          "iopub.execute_input": "2022-09-16T07:50:03.202929Z",
          "iopub.status.idle": "2022-09-16T07:50:03.21414Z",
          "shell.execute_reply.started": "2022-09-16T07:50:03.202896Z",
          "shell.execute_reply": "2022-09-16T07:50:03.212793Z"
        },
        "trusted": true,
        "colab": {
          "base_uri": "https://localhost:8080/"
        },
        "id": "uRTMwrcV5K2G",
        "outputId": "74f30777-97f3-493f-f2f3-fe0d9775cf0b"
      },
      "execution_count": 9,
      "outputs": [
        {
          "output_type": "execute_result",
          "data": {
            "text/plain": [
              "Twitter for iPhone      16875\n",
              "Twitter Web Client        402\n",
              "Instagram                  93\n",
              "Twitter Web App            36\n",
              "Twitter for Websites       12\n",
              "iOS                        11\n",
              "Mobile Web                  4\n",
              "Photos on iOS               3\n",
              "Tweetlogix                  1\n",
              "Name: Source of Tweet, dtype: int64"
            ]
          },
          "metadata": {},
          "execution_count": 9
        }
      ]
    },
    {
      "cell_type": "code",
      "source": [
        "plt.style.use('Solarize_Light2')\n",
        "tweets[\"Source of Tweet\"].value_counts().plot(kind=\"barh\",figsize=(10,10),title=\"Source of Tweet\",fontsize=15)"
      ],
      "metadata": {
        "execution": {
          "iopub.status.busy": "2022-09-16T07:50:03.215906Z",
          "iopub.execute_input": "2022-09-16T07:50:03.21633Z",
          "iopub.status.idle": "2022-09-16T07:50:03.5334Z",
          "shell.execute_reply.started": "2022-09-16T07:50:03.216294Z",
          "shell.execute_reply": "2022-09-16T07:50:03.532024Z"
        },
        "trusted": true,
        "colab": {
          "base_uri": "https://localhost:8080/",
          "height": 632
        },
        "id": "PNj-eIcw5K2G",
        "outputId": "a9096193-b190-451e-ac5d-d9ecc3eecdab"
      },
      "execution_count": 10,
      "outputs": [
        {
          "output_type": "execute_result",
          "data": {
            "text/plain": [
              "<matplotlib.axes._subplots.AxesSubplot at 0x7f6827d2d850>"
            ]
          },
          "metadata": {},
          "execution_count": 10
        },
        {
          "output_type": "display_data",
          "data": {
            "text/plain": [
              "<Figure size 720x720 with 1 Axes>"
            ],
            "image/png": "[encoded data removed]"
          },
          "metadata": {}
        }
      ]
    },
    {
      "cell_type": "markdown",
      "source": [
        " **His biggest source of tweet is Iphone**\n",
        " **Almost 94% to 97%**"
      ],
      "metadata": {
        "id": "qcwl4Oi25K2H"
      }
    },
    {
      "cell_type": "markdown",
      "source": [
        "# 4. His most liked tweet, what was it about?"
      ],
      "metadata": {
        "id": "XBv_AeFT5K2H"
      }
    },
    {
      "cell_type": "code",
      "source": [
        "tweets"
      ],
      "metadata": {
        "execution": {
          "iopub.status.busy": "2022-09-16T07:50:03.535579Z",
          "iopub.execute_input": "2022-09-16T07:50:03.536105Z",
          "iopub.status.idle": "2022-09-16T07:50:03.552786Z",
          "shell.execute_reply.started": "2022-09-16T07:50:03.536055Z",
          "shell.execute_reply": "2022-09-16T07:50:03.551845Z"
        },
        "trusted": true,
        "colab": {
          "base_uri": "https://localhost:8080/",
          "height": 423
        },
        "id": "atZp3UNW5K2H",
        "outputId": "1011beef-5c39-4701-e09a-9abc2f059162"
      },
      "execution_count": 11,
      "outputs": [
        {
          "output_type": "execute_result",
          "data": {
            "text/plain": [
              "                    Date Created  Number of Likes     Source of Tweet  \\\n",
              "0      2022-09-12 05:44:11+00:00             1524  Twitter for iPhone   \n",
              "1      2022-09-12 05:43:02+00:00            19631  Twitter for iPhone   \n",
              "2      2022-09-12 04:19:57+00:00             9221  Twitter for iPhone   \n",
              "3      2022-09-12 03:25:03+00:00              944  Twitter for iPhone   \n",
              "4      2022-09-12 01:48:49+00:00             3710  Twitter for iPhone   \n",
              "...                          ...              ...                 ...   \n",
              "17432  2011-12-03 08:22:07+00:00               51  Twitter for iPhone   \n",
              "17433  2011-12-03 08:20:28+00:00               53  Twitter for iPhone   \n",
              "17434  2011-12-01 10:29:04+00:00               75  Twitter Web Client   \n",
              "17435  2011-12-01 09:55:11+00:00              189  Twitter Web Client   \n",
              "17436  2010-06-04 18:31:57+00:00             6042  Twitter Web Client   \n",
              "\n",
              "                                                  Tweets  \n",
              "0      @teslaownersSV @cb_doge @Tesla @mayemusk I gue...  \n",
              "1      @cb_doge @Tesla @mayemusk Still doing same thi...  \n",
              "2      Looks good to roll out to all Tesla owners wit...  \n",
              "3      @Tesla__Mania @WholeMarsBlog That is probably ...  \n",
              "4      @WholeMarsBlog Real-world validation &amp; bil...  \n",
              "...                                                  ...  \n",
              "17432                  That was a total non sequitur btw  \n",
              "17433  Great Voltaire quote, arguably better than Twa...  \n",
              "17434  I made the volume on the Model S http://t.co/w...  \n",
              "17435  Went to Iceland on Sat to ride bumper cars on ...  \n",
              "17436  Please ignore prior tweets, as that was someon...  \n",
              "\n",
              "[17437 rows x 4 columns]"
            ],
            "text/html": [
              "\n",
              "  <div id=\"df-deea7b08-f7c4-4b13-8b87-2589948258d5\">\n",
              "    <div class=\"colab-df-container\">\n",
              "      <div>\n",
              "<style scoped>\n",
              "    .dataframe tbody tr th:only-of-type {\n",
              "        vertical-align: middle;\n",
              "    }\n",
              "\n",
              "    .dataframe tbody tr th {\n",
              "        vertical-align: top;\n",
              "    }\n",
              "\n",
              "    .dataframe thead th {\n",
              "        text-align: right;\n",
              "    }\n",
              "</style>\n",
              "<table border=\"1\" class=\"dataframe\">\n",
              "  <thead>\n",
              "    <tr style=\"text-align: right;\">\n",
              "      <th></th>\n",
              "      <th>Date Created</th>\n",
              "      <th>Number of Likes</th>\n",
              "      <th>Source of Tweet</th>\n",
              "      <th>Tweets</th>\n",
              "    </tr>\n",
              "  </thead>\n",
              "  <tbody>\n",
              "    <tr>\n",
              "      <th>0</th>\n",
              "      <td>2022-09-12 05:44:11+00:00</td>\n",
              "      <td>1524</td>\n",
              "      <td>Twitter for iPhone</td>\n",
              "      <td>@teslaownersSV @cb_doge @Tesla @mayemusk I gue...</td>\n",
              "    </tr>\n",
              "    <tr>\n",
              "      <th>1</th>\n",
              "      <td>2022-09-12 05:43:02+00:00</td>\n",
              "      <td>19631</td>\n",
              "      <td>Twitter for iPhone</td>\n",
              "      <td>@cb_doge @Tesla @mayemusk Still doing same thi...</td>\n",
              "    </tr>\n",
              "    <tr>\n",
              "      <th>2</th>\n",
              "      <td>2022-09-12 04:19:57+00:00</td>\n",
              "      <td>9221</td>\n",
              "      <td>Twitter for iPhone</td>\n",
              "      <td>Looks good to roll out to all Tesla owners wit...</td>\n",
              "    </tr>\n",
              "    <tr>\n",
              "      <th>3</th>\n",
              "      <td>2022-09-12 03:25:03+00:00</td>\n",
              "      <td>944</td>\n",
              "      <td>Twitter for iPhone</td>\n",
              "      <td>@Tesla__Mania @WholeMarsBlog That is probably ...</td>\n",
              "    </tr>\n",
              "    <tr>\n",
              "      <th>4</th>\n",
              "      <td>2022-09-12 01:48:49+00:00</td>\n",
              "      <td>3710</td>\n",
              "      <td>Twitter for iPhone</td>\n",
              "      <td>@WholeMarsBlog Real-world validation &amp;amp; bil...</td>\n",
              "    </tr>\n",
              "    <tr>\n",
              "      <th>...</th>\n",
              "      <td>...</td>\n",
              "      <td>...</td>\n",
              "      <td>...</td>\n",
              "      <td>...</td>\n",
              "    </tr>\n",
              "    <tr>\n",
              "      <th>17432</th>\n",
              "      <td>2011-12-03 08:22:07+00:00</td>\n",
              "      <td>51</td>\n",
              "      <td>Twitter for iPhone</td>\n",
              "      <td>That was a total non sequitur btw</td>\n",
              "    </tr>\n",
              "    <tr>\n",
              "      <th>17433</th>\n",
              "      <td>2011-12-03 08:20:28+00:00</td>\n",
              "      <td>53</td>\n",
              "      <td>Twitter for iPhone</td>\n",
              "      <td>Great Voltaire quote, arguably better than Twa...</td>\n",
              "    </tr>\n",
              "    <tr>\n",
              "      <th>17434</th>\n",
              "      <td>2011-12-01 10:29:04+00:00</td>\n",
              "      <td>75</td>\n",
              "      <td>Twitter Web Client</td>\n",
              "      <td>I made the volume on the Model S http://t.co/w...</td>\n",
              "    </tr>\n",
              "    <tr>\n",
              "      <th>17435</th>\n",
              "      <td>2011-12-01 09:55:11+00:00</td>\n",
              "      <td>189</td>\n",
              "      <td>Twitter Web Client</td>\n",
              "      <td>Went to Iceland on Sat to ride bumper cars on ...</td>\n",
              "    </tr>\n",
              "    <tr>\n",
              "      <th>17436</th>\n",
              "      <td>2010-06-04 18:31:57+00:00</td>\n",
              "      <td>6042</td>\n",
              "      <td>Twitter Web Client</td>\n",
              "      <td>Please ignore prior tweets, as that was someon...</td>\n",
              "    </tr>\n",
              "  </tbody>\n",
              "</table>\n",
              "<p>17437 rows × 4 columns</p>\n",
              "</div>\n",
              "      <button class=\"colab-df-convert\" onclick=\"convertToInteractive('df-deea7b08-f7c4-4b13-8b87-2589948258d5')\"\n",
              "              title=\"Convert this dataframe to an interactive table.\"\n",
              "              style=\"display:none;\">\n",
              "        \n",
              "  <svg xmlns=\"http://www.w3.org/2000/svg\" height=\"24px\"viewBox=\"0 0 24 24\"\n",
              "       width=\"24px\">\n",
              "    <path d=\"M0 0h24v24H0V0z\" fill=\"none\"/>\n",
              "    <path d=\"M18.56 5.44l.94 2.06.94-2.06 2.06-.94-2.06-.94-.94-2.06-.94 2.06-2.06.94zm-11 1L8.5 8.5l.94-2.06 2.06-.94-2.06-.94L8.5 2.5l-.94 2.06-2.06.94zm10 10l.94 2.06.94-2.06 2.06-.94-2.06-.94-.94-2.06-.94 2.06-2.06.94z\"/><path d=\"M17.41 7.96l-1.37-1.37c-.4-.4-.92-.59-1.43-.59-.52 0-1.04.2-1.43.59L10.3 9.45l-7.72 7.72c-.78.78-.78 2.05 0 2.83L4 21.41c.39.39.9.59 1.41.59.51 0 1.02-.2 1.41-.59l7.78-7.78 2.81-2.81c.8-.78.8-2.07 0-2.86zM5.41 20L4 18.59l7.72-7.72 1.47 1.35L5.41 20z\"/>\n",
              "  </svg>\n",
              "      </button>\n",
              "      \n",
              "  <style>\n",
              "    .colab-df-container {\n",
              "      display:flex;\n",
              "      flex-wrap:wrap;\n",
              "      gap: 12px;\n",
              "    }\n",
              "\n",
              "    .colab-df-convert {\n",
              "      background-color: #E8F0FE;\n",
              "      border: none;\n",
              "      border-radius: 50%;\n",
              "      cursor: pointer;\n",
              "      display: none;\n",
              "      fill: #1967D2;\n",
              "      height: 32px;\n",
              "      padding: 0 0 0 0;\n",
              "      width: 32px;\n",
              "    }\n",
              "\n",
              "    .colab-df-convert:hover {\n",
              "      background-color: #E2EBFA;\n",
              "      box-shadow: 0px 1px 2px rgba(60, 64, 67, 0.3), 0px 1px 3px 1px rgba(60, 64, 67, 0.15);\n",
              "      fill: #174EA6;\n",
              "    }\n",
              "\n",
              "    [theme=dark] .colab-df-convert {\n",
              "      background-color: #3B4455;\n",
              "      fill: #D2E3FC;\n",
              "    }\n",
              "\n",
              "    [theme=dark] .colab-df-convert:hover {\n",
              "      background-color: #434B5C;\n",
              "      box-shadow: 0px 1px 3px 1px rgba(0, 0, 0, 0.15);\n",
              "      filter: drop-shadow(0px 1px 2px rgba(0, 0, 0, 0.3));\n",
              "      fill: #FFFFFF;\n",
              "    }\n",
              "  </style>\n",
              "\n",
              "      <script>\n",
              "        const buttonEl =\n",
              "          document.querySelector('#df-deea7b08-f7c4-4b13-8b87-2589948258d5 button.colab-df-convert');\n",
              "        buttonEl.style.display =\n",
              "          google.colab.kernel.accessAllowed ? 'block' : 'none';\n",
              "\n",
              "        async function convertToInteractive(key) {\n",
              "          const element = document.querySelector('#df-deea7b08-f7c4-4b13-8b87-2589948258d5');\n",
              "          const dataTable =\n",
              "            await google.colab.kernel.invokeFunction('convertToInteractive',\n",
              "                                                     [key], {});\n",
              "          if (!dataTable) return;\n",
              "\n",
              "          const docLinkHtml = 'Like what you see? Visit the ' +\n",
              "            '<a target=\"_blank\" href=https://colab.research.google.com/notebooks/data_table.ipynb>data table notebook</a>'\n",
              "            + ' to learn more about interactive tables.';\n",
              "          element.innerHTML = '';\n",
              "          dataTable['output_type'] = 'display_data';\n",
              "          await google.colab.output.renderOutput(dataTable, element);\n",
              "          const docLink = document.createElement('div');\n",
              "          docLink.innerHTML = docLinkHtml;\n",
              "          element.appendChild(docLink);\n",
              "        }\n",
              "      </script>\n",
              "    </div>\n",
              "  </div>\n",
              "  "
            ]
          },
          "metadata": {},
          "execution_count": 11
        }
      ]
    },
    {
      "cell_type": "code",
      "source": [
        "tweets[\"Number of Likes\"].sort_values(ascending=False)\n"
      ],
      "metadata": {
        "execution": {
          "iopub.status.busy": "2022-09-16T07:50:03.555309Z",
          "iopub.execute_input": "2022-09-16T07:50:03.556072Z",
          "iopub.status.idle": "2022-09-16T07:50:03.565615Z",
          "shell.execute_reply.started": "2022-09-16T07:50:03.556034Z",
          "shell.execute_reply": "2022-09-16T07:50:03.564681Z"
        },
        "trusted": true,
        "colab": {
          "base_uri": "https://localhost:8080/"
        },
        "id": "S07ZcNfz5K2H",
        "outputId": "46a33b17-a95a-4e30-c7f8-20633928bcb8"
      },
      "execution_count": 12,
      "outputs": [
        {
          "output_type": "execute_result",
          "data": {
            "text/plain": [
              "1602     4812557\n",
              "1627     3259198\n",
              "1599     2673383\n",
              "1626     2629536\n",
              "1598     2600911\n",
              "          ...   \n",
              "16910          3\n",
              "16948          3\n",
              "16947          3\n",
              "16937          3\n",
              "17015          3\n",
              "Name: Number of Likes, Length: 17437, dtype: int64"
            ]
          },
          "metadata": {},
          "execution_count": 12
        }
      ]
    },
    {
      "cell_type": "code",
      "source": [
        "tweets.iloc[1602]"
      ],
      "metadata": {
        "execution": {
          "iopub.status.busy": "2022-09-16T07:50:03.566799Z",
          "iopub.execute_input": "2022-09-16T07:50:03.567425Z",
          "iopub.status.idle": "2022-09-16T07:50:03.576713Z",
          "shell.execute_reply.started": "2022-09-16T07:50:03.567391Z",
          "shell.execute_reply": "2022-09-16T07:50:03.575705Z"
        },
        "trusted": true,
        "colab": {
          "base_uri": "https://localhost:8080/"
        },
        "id": "QWhPdr0l5K2I",
        "outputId": "f1411d35-9ff3-4c1b-8d39-9597e978cb0a"
      },
      "execution_count": 13,
      "outputs": [
        {
          "output_type": "execute_result",
          "data": {
            "text/plain": [
              "Date Created                               2022-04-28 00:56:58+00:00\n",
              "Number of Likes                                              4812557\n",
              "Source of Tweet                                   Twitter for iPhone\n",
              "Tweets             Next I’m buying Coca-Cola to put the cocaine b...\n",
              "Name: 1602, dtype: object"
            ]
          },
          "metadata": {},
          "execution_count": 13
        }
      ]
    },
    {
      "cell_type": "code",
      "source": [
        "tweets.iloc[1602][\"Tweets\"]"
      ],
      "metadata": {
        "execution": {
          "iopub.status.busy": "2022-09-16T07:50:03.57795Z",
          "iopub.execute_input": "2022-09-16T07:50:03.578476Z",
          "iopub.status.idle": "2022-09-16T07:50:03.589776Z",
          "shell.execute_reply.started": "2022-09-16T07:50:03.578443Z",
          "shell.execute_reply": "2022-09-16T07:50:03.588371Z"
        },
        "trusted": true,
        "colab": {
          "base_uri": "https://localhost:8080/",
          "height": 36
        },
        "id": "9Xprs4ZS5K2I",
        "outputId": "25955354-a634-4dbd-e634-b3704d98f500"
      },
      "execution_count": 14,
      "outputs": [
        {
          "output_type": "execute_result",
          "data": {
            "text/plain": [
              "'Next I’m buying Coca-Cola to put the cocaine back in'"
            ],
            "application/vnd.google.colaboratory.intrinsic+json": {
              "type": "string"
            }
          },
          "metadata": {},
          "execution_count": 14
        }
      ]
    },
    {
      "cell_type": "markdown",
      "source": [
        " **According to this dataset Elon's most liked tweet is a joke.**\n",
        " **The tweet received 4812557 likes.**"
      ],
      "metadata": {
        "id": "EV4Ey7h45K2K"
      }
    },
    {
      "cell_type": "markdown",
      "source": [
        "# 5. His least liked tweet, what was it about?"
      ],
      "metadata": {
        "id": "jjZhvJFm5K2K"
      }
    },
    {
      "cell_type": "code",
      "source": [
        "tweets[\"Number of Likes\"].sort_values()\n"
      ],
      "metadata": {
        "execution": {
          "iopub.status.busy": "2022-09-16T07:50:03.591261Z",
          "iopub.execute_input": "2022-09-16T07:50:03.591638Z",
          "iopub.status.idle": "2022-09-16T07:50:03.60802Z",
          "shell.execute_reply.started": "2022-09-16T07:50:03.591603Z",
          "shell.execute_reply": "2022-09-16T07:50:03.606964Z"
        },
        "trusted": true,
        "colab": {
          "base_uri": "https://localhost:8080/"
        },
        "id": "-d-civQK5K2K",
        "outputId": "94ca77ec-9f43-4369-d04b-08c8c182bba2"
      },
      "execution_count": 15,
      "outputs": [
        {
          "output_type": "execute_result",
          "data": {
            "text/plain": [
              "16942          3\n",
              "17015          3\n",
              "16948          3\n",
              "16910          3\n",
              "16947          3\n",
              "          ...   \n",
              "1598     2600911\n",
              "1626     2629536\n",
              "1599     2673383\n",
              "1627     3259198\n",
              "1602     4812557\n",
              "Name: Number of Likes, Length: 17437, dtype: int64"
            ]
          },
          "metadata": {},
          "execution_count": 15
        }
      ]
    },
    {
      "cell_type": "code",
      "source": [
        "tweets[\"Number of Likes\"].sort_values().head()"
      ],
      "metadata": {
        "execution": {
          "iopub.status.busy": "2022-09-16T07:50:03.609632Z",
          "iopub.execute_input": "2022-09-16T07:50:03.610026Z",
          "iopub.status.idle": "2022-09-16T07:50:03.619662Z",
          "shell.execute_reply.started": "2022-09-16T07:50:03.609991Z",
          "shell.execute_reply": "2022-09-16T07:50:03.618408Z"
        },
        "trusted": true,
        "colab": {
          "base_uri": "https://localhost:8080/"
        },
        "id": "FCg7TRFk5K2L",
        "outputId": "70d28320-8c8e-43c7-8c16-38b717a73ac5"
      },
      "execution_count": 16,
      "outputs": [
        {
          "output_type": "execute_result",
          "data": {
            "text/plain": [
              "16942    3\n",
              "17015    3\n",
              "16948    3\n",
              "16910    3\n",
              "16947    3\n",
              "Name: Number of Likes, dtype: int64"
            ]
          },
          "metadata": {},
          "execution_count": 16
        }
      ]
    },
    {
      "cell_type": "markdown",
      "source": [
        "**The least likes he received on his Twitter is 3 but in this dataset, many tweets received only 3 likes.**"
      ],
      "metadata": {
        "id": "XVBh0pAi5K2L"
      }
    }
  ]
}